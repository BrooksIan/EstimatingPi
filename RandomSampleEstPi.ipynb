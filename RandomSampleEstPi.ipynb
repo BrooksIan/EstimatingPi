{
 "cells": [
  {
   "cell_type": "code",
   "execution_count": 1,
   "metadata": {},
   "outputs": [
    {
     "name": "stdout",
     "output_type": "stream",
     "text": [
      "Value after 10000 iterations is 2.004908985598498\n",
      "Value after 20000 iterations is 2.009915144402673\n",
      "Value after 30000 iterations is 2.0099342006542793\n",
      "Value after 40000 iterations is 2.011474079365675\n",
      "Value after 50000 iterations is 2.008246934012984\n",
      "Value after 60000 iterations is 2.0070585219411123\n",
      "Value after 70000 iterations is 2.006124157241596\n",
      "Value after 80000 iterations is 2.004329967044545\n",
      "Value after 90000 iterations is 2.004584482575882\n",
      "The value of the integral from 0 to 3.141592653589793 is:  2.0036709777323916\n"
     ]
    }
   ],
   "source": [
    "#https://towardsdatascience.com/just-keep-guessing-the-power-of-the-monte-carlo-method-f06bc6f33d19\n",
    "#Demo code from Torwards Data Science\n",
    "\n",
    "import numpy as np\n",
    "from scipy import random\n",
    "a, b = 0, np.pi # limits of integration\n",
    "N = 100_000     # Number of random points\n",
    "integral = 0.0  # initialize the value of the integral\n",
    "x_random = random.uniform(a,b,N) # array of random numbers\n",
    "def func(x):\n",
    "    '''This is the function that we want to integrate'''\n",
    "    return np.sin(x)\n",
    "# Makes a guess at the integral, adds that guess to the other guesses, and prints intermediate answers\n",
    "for x in range(N):\n",
    "    integral += func(x_random[x])\n",
    "    if (x % 10_000 == 0) & (x != 0):\n",
    "        intermediate_answer = (b-a)/float(x)*integral\n",
    "        print(f'Value after {x} iterations is {intermediate_answer}')\n",
    "    \n",
    "answer = (b-a)/float(N)*integral\n",
    "print(f'The value of the integral from {a} to {b} is: ', answer)\n"
   ]
  },
  {
   "cell_type": "code",
   "execution_count": 1,
   "metadata": {},
   "outputs": [],
   "source": [
    "import numpy as np\n",
    "from scipy import random\n"
   ]
  },
  {
   "cell_type": "code",
   "execution_count": null,
   "metadata": {},
   "outputs": [],
   "source": []
  }
 ],
 "metadata": {
  "kernelspec": {
   "display_name": "Python 3",
   "language": "python",
   "name": "python3"
  },
  "language_info": {
   "codemirror_mode": {
    "name": "ipython",
    "version": 3
   },
   "file_extension": ".py",
   "mimetype": "text/x-python",
   "name": "python",
   "nbconvert_exporter": "python",
   "pygments_lexer": "ipython3",
   "version": "3.6.10"
  }
 },
 "nbformat": 4,
 "nbformat_minor": 4
}
